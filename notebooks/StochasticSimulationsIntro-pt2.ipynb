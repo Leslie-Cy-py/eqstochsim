{
 "cells": [
  {
   "cell_type": "code",
   "execution_count": null,
   "metadata": {},
   "outputs": [],
   "source": [
    "import os\n",
    "import sys\n",
    "module_path = os.path.abspath(os.path.join('..'))\n",
    "if module_path not in sys.path:\n",
    "    sys.path.append(module_path)\n",
    "%config InlineBackend.figure_format ='retina'\n",
    "    \n",
    "    \n",
    "import numpy as np\n",
    "\n",
    "\n",
    "import eqstochsim as sm\n",
    "import eqstochsim.models\n",
    "import eqstochsim.eqphysics\n",
    "\n",
    "from plotconf import matsettings\n",
    "\n",
    "import ipywidgets as widgets\n",
    "from ipywidgets import interact, interact_manual\n",
    "\n",
    "import matplotlib.pyplot as plt"
   ]
  },
  {
   "cell_type": "markdown",
   "metadata": {},
   "source": [
    "# Intro to stochastic ground motion simulation - Pt. 2\n",
    "### This notebook is intended to show the basic steps of the stochastic method of simulation of earthquake induced ground motions, principally following the general outline of Boore (2003).\n",
    "*For clarity we will follow their equation notations as closely as we can, but inevitably there will be some mismatches.*\n",
    "#### References\n",
    "1. [Aki, K. (1967). Scaling law of earthquake spectrum. *J. Geophys. Res.* **72**, 1217-1231.](https://doi.org/10.1029/JZ072i004p01217) \n",
    "2. [Boore, D.M. (2003). Simulation of ground motion using the stochastic method. *Pure Appl. Geophys.* **160**, 635-676.](http://www.daveboore.com/pubs_online/boore_stochastic_method_pageoph.pdf)\n",
    "3. [Brune, J. (1970). Tectonic stress and the spectra of seismic shear waves from earthquakes, *J. Geophys. Res.* **75**, 4997-5009.](https://doi.org/10.1029/JB075i026p04997)\n",
    "4. [Brune, J. (1971). Correction, *J. Geophys. Res.* **76**, 5002.](https://doi.org/10.1029/JB076i020p05002) \n",
    "5. [Eshelby, J. D. (1957). The determination of the elastic field of an ellipsoidal inclusion, and related problems. *Proc. Royal Soc. A.* **241**, 376–396.](https://doi.org/10.1098/rspa.1957.0133)\n",
    "6. [Kaneko, Y. and P.M. Shearer (2014). Seismic source spectra and estimated stress drop derived from cohesive-zone models of circular subshear rupture. *Geophys. J. Int.* **197**, 1002-1015.](https://doi.org/10.1093/gji/ggu030) \n",
    "7. [Shearer, P. M., R. E. Abercrombie, D. T. Trugman, and W. Wang (2019). Comparing EGF methods for estimating corner frequency and stress drop from P wave spectra, *J. Geophys. Res.* **124**, 3966–3986.]( https://doi.org/10.1029/2018JB016957)"
   ]
  },
  {
   "cell_type": "code",
   "execution_count": null,
   "metadata": {},
   "outputs": [],
   "source": []
  }
 ],
 "metadata": {
  "kernelspec": {
   "display_name": "Python 3",
   "language": "python",
   "name": "python3"
  },
  "language_info": {
   "codemirror_mode": {
    "name": "ipython",
    "version": 3
   },
   "file_extension": ".py",
   "mimetype": "text/x-python",
   "name": "python",
   "nbconvert_exporter": "python",
   "pygments_lexer": "ipython3",
   "version": "3.8.6"
  }
 },
 "nbformat": 4,
 "nbformat_minor": 4
}
